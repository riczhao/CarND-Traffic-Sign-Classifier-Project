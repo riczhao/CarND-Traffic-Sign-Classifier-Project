{
 "cells": [
  {
   "cell_type": "markdown",
   "metadata": {
    "deletable": true,
    "editable": true
   },
   "source": [
    "# Self-Driving Car Engineer Nanodegree\n",
    "\n",
    "## Deep Learning\n",
    "\n",
    "## Project: Build a Traffic Sign Recognition Classifier\n",
    "\n",
    "In this notebook, a template is provided for you to implement your functionality in stages, which is required to successfully complete this project. If additional code is required that cannot be included in the notebook, be sure that the Python code is successfully imported and included in your submission if necessary. \n",
    "\n",
    "> **Note**: Once you have completed all of the code implementations, you need to finalize your work by exporting the iPython Notebook as an HTML document. Before exporting the notebook to html, all of the code cells need to have been run so that reviewers can see the final implementation and output. You can then export the notebook by using the menu above and navigating to  \\n\",\n",
    "    \"**File -> Download as -> HTML (.html)**. Include the finished document along with this notebook as your submission. \n",
    "\n",
    "In addition to implementing code, there is a writeup to complete. The writeup should be completed in a separate file, which can be either a markdown file or a pdf document. There is a [write up template](https://github.com/udacity/CarND-Traffic-Sign-Classifier-Project/blob/master/writeup_template.md) that can be used to guide the writing process. Completing the code template and writeup template will cover all of the [rubric points](https://review.udacity.com/#!/rubrics/481/view) for this project.\n",
    "\n",
    "The [rubric](https://review.udacity.com/#!/rubrics/481/view) contains \"Stand Out Suggestions\" for enhancing the project beyond the minimum requirements. The stand out suggestions are optional. If you decide to pursue the \"stand out suggestions\", you can include the code in this Ipython notebook and also discuss the results in the writeup file.\n",
    "\n",
    "\n",
    ">**Note:** Code and Markdown cells can be executed using the **Shift + Enter** keyboard shortcut. In addition, Markdown cells can be edited by typically double-clicking the cell to enter edit mode."
   ]
  },
  {
   "cell_type": "markdown",
   "metadata": {
    "deletable": true,
    "editable": true
   },
   "source": [
    "---\n",
    "## Step 0: Load The Data"
   ]
  },
  {
   "cell_type": "code",
   "execution_count": 1,
   "metadata": {
    "collapsed": false,
    "deletable": true,
    "editable": true
   },
   "outputs": [],
   "source": [
    "# Load pickled data\n",
    "import pickle\n",
    "import tensorflow as tf\n",
    "\n",
    "# TODO: Fill this in based on where you saved the training and testing data\n",
    "\n",
    "training_file = 'traffic-signs-data/train.p'\n",
    "validation_file= 'traffic-signs-data/valid.p'\n",
    "testing_file = 'traffic-signs-data/test.p'\n",
    "\n",
    "with open(training_file, mode='rb') as f:\n",
    "    train = pickle.load(f)\n",
    "with open(validation_file, mode='rb') as f:\n",
    "    valid = pickle.load(f)\n",
    "with open(testing_file, mode='rb') as f:\n",
    "    test = pickle.load(f)\n",
    "    \n",
    "X_train, y_train = train['features'], train['labels']\n",
    "X_valid, y_valid = valid['features'], valid['labels']\n",
    "X_test, y_test = test['features'], test['labels']"
   ]
  },
  {
   "cell_type": "markdown",
   "metadata": {
    "deletable": true,
    "editable": true
   },
   "source": [
    "---\n",
    "\n",
    "## Step 1: Dataset Summary & Exploration\n",
    "\n",
    "The pickled data is a dictionary with 4 key/value pairs:\n",
    "\n",
    "- `'features'` is a 4D array containing raw pixel data of the traffic sign images, (num examples, width, height, channels).\n",
    "- `'labels'` is a 1D array containing the label/class id of the traffic sign. The file `signnames.csv` contains id -> name mappings for each id.\n",
    "- `'sizes'` is a list containing tuples, (width, height) representing the original width and height the image.\n",
    "- `'coords'` is a list containing tuples, (x1, y1, x2, y2) representing coordinates of a bounding box around the sign in the image. **THESE COORDINATES ASSUME THE ORIGINAL IMAGE. THE PICKLED DATA CONTAINS RESIZED VERSIONS (32 by 32) OF THESE IMAGES**\n",
    "\n",
    "Complete the basic data summary below. Use python, numpy and/or pandas methods to calculate the data summary rather than hard coding the results. For example, the [pandas shape method](http://pandas.pydata.org/pandas-docs/stable/generated/pandas.DataFrame.shape.html) might be useful for calculating some of the summary results. "
   ]
  },
  {
   "cell_type": "markdown",
   "metadata": {
    "deletable": true,
    "editable": true
   },
   "source": [
    "### Provide a Basic Summary of the Data Set Using Python, Numpy and/or Pandas"
   ]
  },
  {
   "cell_type": "code",
   "execution_count": 2,
   "metadata": {
    "collapsed": false,
    "deletable": true,
    "editable": true
   },
   "outputs": [
    {
     "name": "stdout",
     "output_type": "stream",
     "text": [
      "Number of training examples = 34799\n",
      "Number of testing examples = 12630\n",
      "Image data shape = (32, 32)\n",
      "Number of classes = 43\n",
      "(34799, 32, 32, 3) (34799,) (4410, 32, 32, 3) (4410,) (12630, 32, 32, 3) (12630,)\n"
     ]
    }
   ],
   "source": [
    "### Replace each question mark with the appropriate value. \n",
    "### Use python, pandas or numpy methods rather than hard coding the results\n",
    "import numpy as np\n",
    "\n",
    "# TODO: Number of training examples\n",
    "n_train = X_train.shape[0]\n",
    "\n",
    "# TODO: Number of testing examples.\n",
    "n_test = X_test.shape[0]\n",
    "\n",
    "# TODO: What's the shape of an traffic sign image?\n",
    "image_shape = X_train.shape[1:3]\n",
    "\n",
    "# TODO: How many unique classes/labels there are in the dataset.\n",
    "n_classes = len(np.unique(np.hstack((y_train,y_valid,y_test))))\n",
    "\n",
    "print(\"Number of training examples =\", n_train)\n",
    "print(\"Number of testing examples =\", n_test)\n",
    "print(\"Image data shape =\", image_shape)\n",
    "print(\"Number of classes =\", n_classes)\n",
    "print(X_train.shape, y_train.shape, X_valid.shape, y_valid.shape, X_test.shape, y_test.shape)"
   ]
  },
  {
   "cell_type": "markdown",
   "metadata": {
    "deletable": true,
    "editable": true
   },
   "source": [
    "### Include an exploratory visualization of the dataset"
   ]
  },
  {
   "cell_type": "markdown",
   "metadata": {
    "deletable": true,
    "editable": true
   },
   "source": [
    "Visualize the German Traffic Signs Dataset using the pickled file(s). This is open ended, suggestions include: plotting traffic sign images, plotting the count of each sign, etc.\n",
    "\n",
    "The [Matplotlib](http://matplotlib.org/) [examples](http://matplotlib.org/examples/index.html) and [gallery](http://matplotlib.org/gallery.html) pages are a great resource for doing visualizations in Python.\n",
    "\n",
    "**NOTE:** It's recommended you start with something simple first. If you wish to do more, come back to it after you've completed the rest of the sections."
   ]
  },
  {
   "cell_type": "code",
   "execution_count": 3,
   "metadata": {
    "collapsed": false,
    "deletable": true,
    "editable": true
   },
   "outputs": [
    {
     "data": {
      "text/plain": [
       "[<matplotlib.lines.Line2D at 0x120cbb080>]"
      ]
     },
     "execution_count": 3,
     "metadata": {},
     "output_type": "execute_result"
    },
    {
     "data": {
      "image/png": "[encoded data removed]",
      "text/plain": [
       "<matplotlib.figure.Figure at 0x10caa32e8>"
      ]
     },
     "metadata": {},
     "output_type": "display_data"
    }
   ],
   "source": [
    "### Data exploration visualization code goes here.\n",
    "### Feel free to use as many code cells as needed.\n",
    "import matplotlib.pyplot as plt\n",
    "# Visualizations will be shown in the notebook.\n",
    "%matplotlib inline\n",
    "plt.subplot(411)\n",
    "plt.imshow(X_train[10000])\n",
    "uniq, count = np.unique(y_train, return_counts=True)\n",
    "plt.subplot(412)\n",
    "plt.plot(uniq, count, 'ro')\n",
    "uniq, count = np.unique(y_valid, return_counts=True)\n",
    "plt.subplot(413)\n",
    "plt.plot(uniq, count, 'ro')\n",
    "uniq, count = np.unique(y_test, return_counts=True)\n",
    "plt.subplot(414)\n",
    "plt.plot(uniq, count, 'ro')\n"
   ]
  },
  {
   "cell_type": "markdown",
   "metadata": {
    "deletable": true,
    "editable": true
   },
   "source": [
    "----\n",
    "\n",
    "## Step 2: Design and Test a Model Architecture\n",
    "\n",
    "Design and implement a deep learning model that learns to recognize traffic signs. Train and test your model on the [German Traffic Sign Dataset](http://benchmark.ini.rub.de/?section=gtsrb&subsection=dataset).\n",
    "\n",
    "The LeNet-5 implementation shown in the [classroom](https://classroom.udacity.com/nanodegrees/nd013/parts/fbf77062-5703-404e-b60c-95b78b2f3f9e/modules/6df7ae49-c61c-4bb2-a23e-6527e69209ec/lessons/601ae704-1035-4287-8b11-e2c2716217ad/concepts/d4aca031-508f-4e0b-b493-e7b706120f81) at the end of the CNN lesson is a solid starting point. You'll have to change the number of classes and possibly the preprocessing, but aside from that it's plug and play! \n",
    "\n",
    "With the LeNet-5 solution from the lecture, you should expect a validation set accuracy of about 0.89. To meet specifications, the validation set accuracy will need to be at least 0.93. It is possible to get an even higher accuracy, but 0.93 is the minimum for a successful project submission. \n",
    "\n",
    "There are various aspects to consider when thinking about this problem:\n",
    "\n",
    "- Neural network architecture (is the network over or underfitting?)\n",
    "- Play around preprocessing techniques (normalization, rgb to grayscale, etc)\n",
    "- Number of examples per label (some have more than others).\n",
    "- Generate fake data.\n",
    "\n",
    "Here is an example of a [published baseline model on this problem](http://yann.lecun.com/exdb/publis/pdf/sermanet-ijcnn-11.pdf). It's not required to be familiar with the approach used in the paper but, it's good practice to try to read papers like these."
   ]
  },
  {
   "cell_type": "markdown",
   "metadata": {
    "deletable": true,
    "editable": true
   },
   "source": [
    "### Pre-process the Data Set (normalization, grayscale, etc.)"
   ]
  },
  {
   "cell_type": "markdown",
   "metadata": {
    "deletable": true,
    "editable": true
   },
   "source": [
    "Use the code cell (or multiple code cells, if necessary) to implement the first step of your project."
   ]
  },
  {
   "cell_type": "code",
   "execution_count": 4,
   "metadata": {
    "collapsed": false,
    "deletable": true,
    "editable": true
   },
   "outputs": [
    {
     "name": "stdout",
     "output_type": "stream",
     "text": [
      "-0.9733359375 0.9921875 (34799, 32, 32, 1)\n",
      "(34799, 43) (4410, 43) (12630, 43)\n"
     ]
    }
   ],
   "source": [
    "### Preprocess the data here. Preprocessing steps could include normalization, converting to grayscale, etc.\n",
    "### Feel free to use as many code cells as needed.\n",
    "def grayscale(x):\n",
    "    v = (x[:,:,:,0] * 0.299 + x[:,:,:,1] * 0.587 +x[:,:,:,2] * 0.114)\n",
    "    return np.expand_dims(v,-1)\n",
    "X_train = grayscale(X_train)\n",
    "X_train = (X_train - 128.)/128.\n",
    "X_valid = grayscale(X_valid)\n",
    "X_valid = (X_valid - 128.)/128.\n",
    "X_test = grayscale(X_test)\n",
    "X_test = (X_test - 128.)/128.\n",
    "print(X_train.min(),X_train.max(),X_train.shape)\n",
    "y_train = np.eye(n_classes,dtype=np.float32)[y_train.astype(int)]\n",
    "y_valid = np.eye(n_classes,dtype=np.float32)[y_valid.astype(int)]\n",
    "y_test = np.eye(n_classes,dtype=np.float32)[y_test.astype(int)]\n",
    "print(y_train.shape, y_valid.shape, y_test.shape)"
   ]
  },
  {
   "cell_type": "markdown",
   "metadata": {
    "deletable": true,
    "editable": true
   },
   "source": [
    "### Model Architecture"
   ]
  },
  {
   "cell_type": "code",
   "execution_count": 5,
   "metadata": {
    "collapsed": false,
    "deletable": true,
    "editable": true
   },
   "outputs": [],
   "source": [
    "from tensorflow.contrib.layers import flatten\n",
    "class Model:\n",
    "    def __init__(self, training=True):\n",
    "        self.x = tf.placeholder(tf.float32, shape=[None,32,32,1])\n",
    "        self.y = tf.placeholder(tf.float32,shape=[None,43])\n",
    "        self.keep_prob = tf.placeholder(tf.float32)\n",
    "        self.training = training\n",
    "        logits = self.LeNet()\n",
    "        \n",
    "        self.loss = tf.losses.softmax_cross_entropy(\n",
    "                onehot_labels=self.y, logits=logits)\n",
    "        self.train_op = tf.contrib.layers.optimize_loss(\n",
    "            loss=self.loss,\n",
    "            global_step=tf.contrib.framework.get_global_step(),\n",
    "            learning_rate=0.01,\n",
    "            optimizer=\"Adam\")\n",
    "        self.possibility = tf.nn.softmax(logits)\n",
    "        self.labels_out = tf.argmax(logits,1)\n",
    "        hits = tf.equal(self.labels_out, tf.argmax(self.y,1))\n",
    "        self.accuracy= tf.reduce_mean(\n",
    "            tf.cast(hits, tf.float32)\n",
    "        )\n",
    "        self.saver = tf.train.Saver() \n",
    "        \n",
    "    def train(self, sess, x, y):\n",
    "        return sess.run(self.train_op, feed_dict={self.x: x, self.y: y, self.keep_prob:0.7})\n",
    "\n",
    "    def acc(self, sess, x, y):\n",
    "        return sess.run(self.accuracy, feed_dict={self.x: x, self.y: y, self.keep_prob:1.})\n",
    "\n",
    "    def LeNet(self):        \n",
    "        normal_initializer = tf.truncated_normal_initializer(mean=0.,stddev=0.1)\n",
    "        regularizer = tf.contrib.layers.l2_regularizer(0.05)\n",
    "        conv_reg = tf.contrib.layers.l2_regularizer(0.01)\n",
    "        conv1 = tf.layers.conv2d(\n",
    "                inputs = self.x,\n",
    "                filters = 6,\n",
    "                kernel_size = [5,5],\n",
    "                kernel_initializer = normal_initializer,\n",
    "                #kernel_regularizer = regularizer,\n",
    "                bias_initializer = normal_initializer,\n",
    "                padding = 'valid',\n",
    "                activation = tf.nn.relu)\n",
    "        pool1 = tf.layers.max_pooling2d(\n",
    "                inputs = conv1,\n",
    "                pool_size = [2,2],\n",
    "                strides = [2,2])\n",
    "        conv2 = tf.layers.conv2d(\n",
    "                inputs = pool1,\n",
    "                filters = 16,\n",
    "                kernel_size = [5,5],\n",
    "                kernel_initializer = normal_initializer,\n",
    "                kernel_regularizer = conv_reg,\n",
    "                bias_initializer = normal_initializer,\n",
    "                padding = 'valid',\n",
    "                activation = tf.nn.relu)\n",
    "        pool2 = tf.layers.max_pooling2d(\n",
    "                inputs = conv2,\n",
    "                pool_size = [2,2],\n",
    "                strides = [2,2])\n",
    "        #fc0 = tf.concat([flatten(pool2),flatten(pool1)], 1)\n",
    "        fc0 = flatten(pool2)\n",
    "        fc1 = tf.layers.dense(\n",
    "            inputs = fc0,\n",
    "            kernel_initializer = normal_initializer,\n",
    "            #kernel_regularizer = regularizer,\n",
    "            bias_initializer = normal_initializer,\n",
    "            units=120,\n",
    "            activation = tf.nn.relu)\n",
    "        \n",
    "        dropout = tf.nn.dropout(fc1, self.keep_prob)\n",
    "\n",
    "        logits = tf.layers.dense(\n",
    "            inputs = dropout,\n",
    "            kernel_initializer = normal_initializer,\n",
    "            #kernel_regularizer = regularizer,\n",
    "            bias_initializer = normal_initializer,\n",
    "            units=43)\n",
    "        return logits"
   ]
  },
  {
   "cell_type": "code",
   "execution_count": 6,
   "metadata": {
    "collapsed": false,
    "deletable": true,
    "editable": true
   },
   "outputs": [],
   "source": [
    "model = Model()\n",
    "\n",
    "def evaluate(X_data, y_data):\n",
    "    BATCH_SIZE = 256\n",
    "    num_examples = len(X_data)\n",
    "    total_accuracy = 0\n",
    "    miss = np.zeros([43])\n",
    "    sess = tf.get_default_session()\n",
    "    for offset in range(0, num_examples, BATCH_SIZE):\n",
    "        batch_x, batch_y = X_data[offset:offset+BATCH_SIZE], y_data[offset:offset+BATCH_SIZE]\n",
    "        accuracy = model.acc(sess, batch_x, batch_y)\n",
    "        total_accuracy += (accuracy * len(batch_x))\n",
    "        #misses = np.logical_not(accuracy[1])\n",
    "        #t = np.argmax(batch_y[misses], axis=1)\n",
    "        #uniq, count = np.unique(t, return_counts=True)\n",
    "        #miss[uniq] += count\n",
    "    #print('miss', miss)\n",
    "    return total_accuracy / num_examples"
   ]
  },
  {
   "cell_type": "markdown",
   "metadata": {
    "deletable": true,
    "editable": true
   },
   "source": [
    "### Train, Validate and Test the Model"
   ]
  },
  {
   "cell_type": "markdown",
   "metadata": {
    "deletable": true,
    "editable": true
   },
   "source": [
    "A validation set can be used to assess how well the model is performing. A low accuracy on the training and validation\n",
    "sets imply underfitting. A high accuracy on the training set but low accuracy on the validation set implies overfitting."
   ]
  },
  {
   "cell_type": "code",
   "execution_count": 7,
   "metadata": {
    "collapsed": false,
    "deletable": true,
    "editable": true
   },
   "outputs": [],
   "source": [
    "config = tf.ConfigProto(\n",
    "       # device_count = {'GPU': 0}\n",
    "    )\n",
    "with tf.Session(config=config) as session:\n",
    "    session.run(tf.global_variables_initializer())\n",
    "    model.saver.save(session, './sermanet')\n",
    "    "
   ]
  },
  {
   "cell_type": "code",
   "execution_count": 8,
   "metadata": {
    "collapsed": false,
    "deletable": true,
    "editable": true
   },
   "outputs": [
    {
     "name": "stdout",
     "output_type": "stream",
     "text": [
      "acc_max 0.0380952380952\n",
      "epic 0 valid acc 0.797505668718 test acc 0.782185273216 loss 1.86063962744\n",
      "epic 1 valid acc 0.866439909594 test acc 0.86413301658 loss 0.455421307072\n",
      "epic 2 valid acc 0.90453514769 test acc 0.884243863807 loss 0.266210983656\n",
      "epic 3 valid acc 0.900226757667 test acc 0.891844813888 loss 0.190767512721\n",
      "epic 4 valid acc 0.908616779802 test acc 0.89619952478 loss 0.15961396528\n",
      "epic 5 valid acc 0.910884353498 test acc 0.909105304896 loss 0.119969408874\n",
      "epic 6 valid acc 0.917460317731 test acc 0.901504354815 loss 0.10306693591\n",
      "epic 7 valid acc 0.923129251998 test acc 0.906571654818 loss 0.111824323058\n",
      "epic 8 valid acc 0.918820861948 test acc 0.902771179759 loss 0.0949624140403\n",
      "epic 9 valid acc 0.928798186211 test acc 0.906967537675 loss 0.0894186904304\n",
      "epic 10 valid acc 0.928798186211 test acc 0.917973080034 loss 0.0774989965991\n",
      "epic 11 valid acc 0.929251700707 test acc 0.912193190844 loss 0.0759634597452\n",
      "epic 12 valid acc 0.937414966013 test acc 0.907521773621 loss 0.0777178186632\n",
      "epic 13 valid acc 0.938095237852 test acc 0.91686460818 loss 0.0634460831062\n",
      "epic 14 valid acc 0.936734693634 test acc 0.919556611385 loss 0.0665503028987\n",
      "epic 15 valid acc 0.922902494088 test acc 0.914726840959 loss 0.070556227633\n",
      "epic 16 valid acc 0.93378684837 test acc 0.911559778258 loss 0.070282571592\n",
      "epic 17 valid acc 0.950566893694 test acc 0.918448139417 loss 0.0651254180141\n",
      "epic 18 valid acc 0.917460317731 test acc 0.916231195632 loss 0.0682024822228\n",
      "epic 19 valid acc 0.937414966284 test acc 0.909184481346 loss 0.0761988753676\n",
      "epic 20 valid acc 0.94126984154 test acc 0.912589073738 loss 0.0688417613833\n",
      "epic 21 valid acc 0.942403627875 test acc 0.908709421964 loss 0.0696079412136\n",
      "epic 22 valid acc 0.928798185725 test acc 0.906650831307 loss 0.0859837038418\n",
      "epic 23 valid acc 0.939229025241 test acc 0.913143309571 loss 0.0733921358614\n",
      "epic 24 valid acc 0.930612244655 test acc 0.914568487756 loss 0.0720536872026\n",
      "epic 25 valid acc 0.94535147368 test acc 0.920744259765 loss 0.0663907857327\n",
      "epic 26 valid acc 0.94557823132 test acc 0.917973079997 loss 0.0614030341051\n",
      "epic 27 valid acc 0.94535147368 test acc 0.925178147334 loss 0.0599396080068\n",
      "epic 28 valid acc 0.942176871046 test acc 0.913855898833 loss 0.0737954474123\n",
      "epic 29 valid acc 0.92789115649 test acc 0.927553444284 loss 0.0655570937932\n",
      "epic 30 valid acc 0.935827664426 test acc 0.922406967566 loss 0.0723962520051\n",
      "epic 31 valid acc 0.941496598666 test acc 0.919635787835 loss 0.0659288378507\n",
      "epic 32 valid acc 0.933560091 test acc 0.913064133007 loss 0.0651009339018\n",
      "epic 33 valid acc 0.938548753105 test acc 0.919794141 loss 0.0745329105038\n",
      "epic 34 valid acc 0.94489795894 test acc 0.925019794245 loss 0.0842170146134\n",
      "epic 35 valid acc 0.936507936292 test acc 0.921615202004 loss 0.070083920324\n",
      "epic 36 valid acc 0.922675737232 test acc 0.90554235949 loss 0.0969422554082\n",
      "epic 37 valid acc 0.920634920392 test acc 0.912034837641 loss 0.108366463459\n",
      "epic 38 valid acc 0.93356009073 test acc 0.915043547176 loss 0.101111646277\n",
      "epic 39 valid acc 0.93990929735 test acc 0.920506730074 loss 0.096537878403\n",
      "validation acc 0.950566893694 test acc 0.918448139417\n"
     ]
    }
   ],
   "source": [
    "### Train your model here.\n",
    "### Calculate and report the accuracy on the training and validation set.\n",
    "### Once a final model architecture is selected, \n",
    "### the accuracy on the test set should be calculated and reported as well.\n",
    "### Feel free to use as many code cells as needed.\n",
    "with tf.Session(config=config) as session:\n",
    "    model.saver.restore(session, tf.train.latest_checkpoint('.'))\n",
    "    batch_size = 512\n",
    "    epics = 40\n",
    "    acc_max = evaluate(X_valid,y_valid)\n",
    "    print('acc_max',acc_max)\n",
    "    for epic in range(epics):\n",
    "        num_samples = X_train.shape[0]\n",
    "        idx = np.random.permutation(num_samples)\n",
    "        X_batches = X_train[idx]\n",
    "        y_batches = y_train[idx]\n",
    "        epic_loss = 0.\n",
    "        epic_acc = 0.\n",
    "        for i in range(0, num_samples, batch_size):\n",
    "            start = i\n",
    "            end = i + batch_size\n",
    "            t = model.train(session, X_batches[start:end], y_batches[start:end])\n",
    "            epic_loss += t * len(X_batches[start:end])\n",
    "        epic_loss /= num_samples\n",
    "        acc = evaluate(X_valid,y_valid)\n",
    "        print('epic',epic,'valid acc',acc,'test acc', evaluate(X_test,y_test),'loss',epic_loss)\n",
    "        if acc > acc_max:\n",
    "            model.saver.save(session, './sermanet')\n",
    "            acc_max = acc\n",
    "            #print('saved @acc ',acc)\n",
    "    model.saver.restore(session, tf.train.latest_checkpoint('.'))\n",
    "    print('validation acc', evaluate(X_valid,y_valid), 'test acc', evaluate(X_test,y_test))"
   ]
  },
  {
   "cell_type": "markdown",
   "metadata": {
    "deletable": true,
    "editable": true
   },
   "source": [
    "---\n",
    "\n",
    "## Step 3: Test a Model on New Images\n",
    "\n",
    "To give yourself more insight into how your model is working, download at least five pictures of German traffic signs from the web and use your model to predict the traffic sign type.\n",
    "\n",
    "You may find `signnames.csv` useful as it contains mappings from the class id (integer) to the actual sign name."
   ]
  },
  {
   "cell_type": "markdown",
   "metadata": {
    "deletable": true,
    "editable": true
   },
   "source": [
    "### Load and Output the Images"
   ]
  },
  {
   "cell_type": "code",
   "execution_count": null,
   "metadata": {
    "collapsed": false,
    "deletable": true,
    "editable": true
   },
   "outputs": [],
   "source": [
    "### Load the images and plot them here.\n",
    "### Feel free to use as many code cells as needed.\n",
    "X_t, y_t = test['features'], test['labels']\n",
    "idx = [1,200,800,900,1500]\n",
    "X_t = X_t[idx]\n",
    "y_t = y_t[idx]\n",
    "plt.subplot(511)\n",
    "plt.imshow(X_t[0])\n",
    "plt.subplot(512)\n",
    "plt.imshow(X_t[1])\n",
    "plt.subplot(513)\n",
    "plt.imshow(X_t[2])\n",
    "plt.subplot(514)\n",
    "plt.imshow(X_t[3])\n",
    "plt.subplot(515)\n",
    "plt.imshow(X_t[4])\n",
    "X_t = grayscale(X_t)"
   ]
  },
  {
   "cell_type": "markdown",
   "metadata": {
    "deletable": true,
    "editable": true
   },
   "source": [
    "### Predict the Sign Type for Each Image"
   ]
  },
  {
   "cell_type": "code",
   "execution_count": null,
   "metadata": {
    "collapsed": false,
    "deletable": true,
    "editable": true
   },
   "outputs": [],
   "source": [
    "### Run the predictions here and use the model to output the prediction for each image.\n",
    "### Make sure to pre-process the images with the same pre-processing pipeline used earlier.\n",
    "### Feel free to use as many code cells as needed.\n",
    "with tf.Session(config=config) as session:\n",
    "    saver.restore(session, tf.train.latest_checkpoint('.'))\n",
    "    cls = session.run(classify, feed_dict={X:X_t})\n",
    "    print(cls,y_t)"
   ]
  },
  {
   "cell_type": "markdown",
   "metadata": {
    "deletable": true,
    "editable": true
   },
   "source": [
    "### Analyze Performance"
   ]
  },
  {
   "cell_type": "code",
   "execution_count": null,
   "metadata": {
    "collapsed": false,
    "deletable": true,
    "editable": true
   },
   "outputs": [],
   "source": [
    "### Calculate the accuracy for these 5 new images. \n",
    "### For example, if the model predicted 1 out of 5 signs correctly, it's 20% accurate on these new images.\n",
    "print(np.sum(np.equal(cls,y_t))/5)"
   ]
  },
  {
   "cell_type": "markdown",
   "metadata": {
    "deletable": true,
    "editable": true
   },
   "source": [
    "### Output Top 5 Softmax Probabilities For Each Image Found on the Web"
   ]
  },
  {
   "cell_type": "markdown",
   "metadata": {
    "deletable": true,
    "editable": true
   },
   "source": [
    "For each of the new images, print out the model's softmax probabilities to show the **certainty** of the model's predictions (limit the output to the top 5 probabilities for each image). [`tf.nn.top_k`](https://www.tensorflow.org/versions/r0.12/api_docs/python/nn.html#top_k) could prove helpful here. \n",
    "\n",
    "The example below demonstrates how tf.nn.top_k can be used to find the top k predictions for each image.\n",
    "\n",
    "`tf.nn.top_k` will return the values and indices (class ids) of the top k predictions. So if k=3, for each sign, it'll return the 3 largest probabilities (out of a possible 43) and the correspoding class ids.\n",
    "\n",
    "Take this numpy array as an example. The values in the array represent predictions. The array contains softmax probabilities for five candidate images with six possible classes. `tk.nn.top_k` is used to choose the three classes with the highest probability:\n",
    "\n",
    "```\n",
    "# (5, 6) array\n",
    "a = np.array([[ 0.24879643,  0.07032244,  0.12641572,  0.34763842,  0.07893497,\n",
    "         0.12789202],\n",
    "       [ 0.28086119,  0.27569815,  0.08594638,  0.0178669 ,  0.18063401,\n",
    "         0.15899337],\n",
    "       [ 0.26076848,  0.23664738,  0.08020603,  0.07001922,  0.1134371 ,\n",
    "         0.23892179],\n",
    "       [ 0.11943333,  0.29198961,  0.02605103,  0.26234032,  0.1351348 ,\n",
    "         0.16505091],\n",
    "       [ 0.09561176,  0.34396535,  0.0643941 ,  0.16240774,  0.24206137,\n",
    "         0.09155967]])\n",
    "```\n",
    "\n",
    "Running it through `sess.run(tf.nn.top_k(tf.constant(a), k=3))` produces:\n",
    "\n",
    "```\n",
    "TopKV2(values=array([[ 0.34763842,  0.24879643,  0.12789202],\n",
    "       [ 0.28086119,  0.27569815,  0.18063401],\n",
    "       [ 0.26076848,  0.23892179,  0.23664738],\n",
    "       [ 0.29198961,  0.26234032,  0.16505091],\n",
    "       [ 0.34396535,  0.24206137,  0.16240774]]), indices=array([[3, 0, 5],\n",
    "       [0, 1, 4],\n",
    "       [0, 5, 1],\n",
    "       [1, 3, 5],\n",
    "       [1, 4, 3]], dtype=int32))\n",
    "```\n",
    "\n",
    "Looking just at the first row we get `[ 0.34763842,  0.24879643,  0.12789202]`, you can confirm these are the 3 largest probabilities in `a`. You'll also notice `[3, 0, 5]` are the corresponding indices."
   ]
  },
  {
   "cell_type": "code",
   "execution_count": null,
   "metadata": {
    "collapsed": false,
    "deletable": true,
    "editable": true
   },
   "outputs": [],
   "source": [
    "### Print out the top five softmax probabilities for the predictions on the German traffic sign images found on the web. \n",
    "### Feel free to use as many code cells as needed.\n",
    "with tf.Session(config=config) as session:\n",
    "    saver.restore(session, tf.train.latest_checkpoint('.'))\n",
    "    topk = tf.nn.top_k(possibility, k=3)\n",
    "    top = session.run(topk, feed_dict={X:X_t})\n",
    "    print(top)"
   ]
  },
  {
   "cell_type": "markdown",
   "metadata": {
    "deletable": true,
    "editable": true
   },
   "source": [
    "---\n",
    "\n",
    "## Step 4: Visualize the Neural Network's State with Test Images\n",
    "\n",
    " This Section is not required to complete but acts as an additional excersise for understaning the output of a neural network's weights. While neural networks can be a great learning device they are often referred to as a black box. We can understand what the weights of a neural network look like better by plotting their feature maps. After successfully training your neural network you can see what it's feature maps look like by plotting the output of the network's weight layers in response to a test stimuli image. From these plotted feature maps, it's possible to see what characteristics of an image the network finds interesting. For a sign, maybe the inner network feature maps react with high activation to the sign's boundary outline or to the contrast in the sign's painted symbol.\n",
    "\n",
    " Provided for you below is the function code that allows you to get the visualization output of any tensorflow weight layer you want. The inputs to the function should be a stimuli image, one used during training or a new one you provided, and then the tensorflow variable name that represents the layer's state during the training process, for instance if you wanted to see what the [LeNet lab's](https://classroom.udacity.com/nanodegrees/nd013/parts/fbf77062-5703-404e-b60c-95b78b2f3f9e/modules/6df7ae49-c61c-4bb2-a23e-6527e69209ec/lessons/601ae704-1035-4287-8b11-e2c2716217ad/concepts/d4aca031-508f-4e0b-b493-e7b706120f81) feature maps looked like for it's second convolutional layer you could enter conv2 as the tf_activation variable.\n",
    "\n",
    "For an example of what feature map outputs look like, check out NVIDIA's results in their paper [End-to-End Deep Learning for Self-Driving Cars](https://devblogs.nvidia.com/parallelforall/deep-learning-self-driving-cars/) in the section Visualization of internal CNN State. NVIDIA was able to show that their network's inner weights had high activations to road boundary lines by comparing feature maps from an image with a clear path to one without. Try experimenting with a similar test to show that your trained network's weights are looking for interesting features, whether it's looking at differences in feature maps from images with or without a sign, or even what feature maps look like in a trained network vs a completely untrained one on the same sign image.\n",
    "\n",
    "<figure>\n",
    " <img src=\"visualize_cnn.png\" width=\"380\" alt=\"Combined Image\" />\n",
    " <figcaption>\n",
    " <p></p> \n",
    " <p style=\"text-align: center;\"> Your output should look something like this (above)</p> \n",
    " </figcaption>\n",
    "</figure>\n",
    " <p></p> \n"
   ]
  },
  {
   "cell_type": "code",
   "execution_count": null,
   "metadata": {
    "collapsed": false,
    "deletable": true,
    "editable": true
   },
   "outputs": [],
   "source": [
    "### Visualize your network's feature maps here.\n",
    "### Feel free to use as many code cells as needed.\n",
    "\n",
    "# image_input: the test image being fed into the network to produce the feature maps\n",
    "# tf_activation: should be a tf variable name used during your training procedure that represents the calculated state of a specific weight layer\n",
    "# activation_min/max: can be used to view the activation contrast in more detail, by default matplot sets min and max to the actual min and max values of the output\n",
    "# plt_num: used to plot out multiple different weight feature map sets on the same block, just extend the plt number for each new feature map entry\n",
    "\n",
    "def outputFeatureMap(image_input, tf_activation, activation_min=-1, activation_max=-1 ,plt_num=1):\n",
    "    # Here make sure to preprocess your image_input in a way your network expects\n",
    "    # with size, normalization, ect if needed\n",
    "    # image_input =\n",
    "    # Note: x should be the same name as your network's tensorflow data placeholder variable\n",
    "    # If you get an error tf_activation is not defined it maybe having trouble accessing the variable from inside a function\n",
    "    activation = tf_activation.eval(session=sess,feed_dict={X : image_input})\n",
    "    featuremaps = activation.shape[3]\n",
    "    plt.figure(plt_num, figsize=(15,15))\n",
    "    for featuremap in range(featuremaps):\n",
    "        plt.subplot(6,8, featuremap+1) # sets the number of feature maps to show on each row and column\n",
    "        plt.title('FeatureMap ' + str(featuremap)) # displays the feature map number\n",
    "        if activation_min != -1 & activation_max != -1:\n",
    "            plt.imshow(activation[0,:,:, featuremap], interpolation=\"nearest\", vmin =activation_min, vmax=activation_max, cmap=\"gray\")\n",
    "        elif activation_max != -1:\n",
    "            plt.imshow(activation[0,:,:, featuremap], interpolation=\"nearest\", vmax=activation_max, cmap=\"gray\")\n",
    "        elif activation_min !=-1:\n",
    "            plt.imshow(activation[0,:,:, featuremap], interpolation=\"nearest\", vmin=activation_min, cmap=\"gray\")\n",
    "        else:\n",
    "            plt.imshow(activation[0,:,:, featuremap], interpolation=\"nearest\", cmap=\"gray\")\n",
    "\n",
    "with tf.Session(config=config) as session:\n",
    "    saver.restore(session, tf.train.latest_checkpoint('.'))\n",
    "    outputFeatureMap(X_t, tf_activation)"
   ]
  },
  {
   "cell_type": "markdown",
   "metadata": {
    "deletable": true,
    "editable": true
   },
   "source": [
    "### Question 9\n",
    "\n",
    "Discuss how you used the visual output of your trained network's feature maps to show that it had learned to look for interesting characteristics in traffic sign images\n"
   ]
  },
  {
   "cell_type": "markdown",
   "metadata": {
    "deletable": true,
    "editable": true
   },
   "source": [
    "**Answer:**"
   ]
  },
  {
   "cell_type": "markdown",
   "metadata": {
    "deletable": true,
    "editable": true
   },
   "source": [
    "> **Note**: Once you have completed all of the code implementations and successfully answered each question above, you may finalize your work by exporting the iPython Notebook as an HTML document. You can do this by using the menu above and navigating to  \\n\",\n",
    "    \"**File -> Download as -> HTML (.html)**. Include the finished document along with this notebook as your submission."
   ]
  },
  {
   "cell_type": "markdown",
   "metadata": {
    "deletable": true,
    "editable": true
   },
   "source": [
    "### Project Writeup\n",
    "\n",
    "Once you have completed the code implementation, document your results in a project writeup using this [template](https://github.com/udacity/CarND-Traffic-Sign-Classifier-Project/blob/master/writeup_template.md) as a guide. The writeup can be in a markdown or pdf file. "
   ]
  }
 ],
 "metadata": {
  "anaconda-cloud": {},
  "kernelspec": {
   "display_name": "Python [default]",
   "language": "python",
   "name": "python3"
  },
  "language_info": {
   "codemirror_mode": {
    "name": "ipython",
    "version": 3
   },
   "file_extension": ".py",
   "mimetype": "text/x-python",
   "name": "python",
   "nbconvert_exporter": "python",
   "pygments_lexer": "ipython3",
   "version": "3.5.2"
  }
 },
 "nbformat": 4,
 "nbformat_minor": 1
}
